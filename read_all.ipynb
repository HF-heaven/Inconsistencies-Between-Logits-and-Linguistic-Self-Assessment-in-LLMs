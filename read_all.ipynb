{
 "cells": [
  {
   "cell_type": "code",
   "execution_count": 9,
   "id": "ee5fdcb6",
   "metadata": {},
   "outputs": [
    {
     "name": "stdout",
     "output_type": "stream",
     "text": [
      "200\n"
     ]
    }
   ],
   "source": [
    "import os\n",
    "import json\n",
    "\n",
    "with open('classification_tasks/new_models_data/QNLI/data.json', 'r') as f:\n",
    "    data = json.load(f)\n",
    "    \n",
    "print(len(data[\"train\"]))\n"
   ]
  },
  {
   "cell_type": "markdown",
   "id": "358602d2",
   "metadata": {},
   "source": [
    "# Correlation between Confidence Measurements\n",
    "\n",
    "## Classification tasks\n",
    "Codes for classification tasks can be found in ```/classification_tasks```.\n",
    "\n",
    "Use ```base_confidence_extraction.py``` to get the logits-based and linguistic confidence results for base models, for example:\n",
    "\n",
    "```bash\n",
    "python base_confidence_extraction.py \\\n",
    "  --model_id Qwen/Qwen2.5-14B \\        # Hugging Face model name\n",
    "  --prompt_file prompts_base_new_56.json \\      # Prompt file under /new_models_data/{task}/, new_56, 45 for Prompt 1, 2\n",
    "  --task CoLA \\                                 # Task name (folder name)\n",
    "  --token hf_xxx_your_token \\          # (Optional) Hugging Face access token\n",
    "  --align_logits_hint                           # (Optional) Append a note asking model to align confidence with logits\n",
    "```\n",
    "Use ```instruct_confidence_extraction.py``` to get the logits-based and linguistic confidence results for instruction-tuned models, for example:\n",
    "```bash\n",
    "python instruct_confidence_extraction.py \\\n",
    "  --model_id Qwen/Qwen2.5-14B-Instruct \\\n",
    "  --prompt_file prompts_instruct_2.json \\\n",
    "  --task CoLA \\\n",
    "  --token hf_xxx_your_token \\\n",
    "  --align_logits_hint\n",
    "```\n",
    "Use ```base_without_conf.py``` to get only logits-based confidence results for base models, whose prompt doesn't have the requirement for linguistic confidence. For example:\n",
    "```bash\n",
    "python base_without_conf.py \\\n",
    "  --model_id meta-llama/Llama-2-13b-hf \\        \n",
    "  --prompt_file prompts_base_withoutConfidence.json \\  \n",
    "  --task CoLA \\                            \n",
    "  --token hf_xxx_your_token           \n",
    "```\n",
    "Use ```instruct_without_conf.py``` to get only logits-based confidence results for instruction-tuned models, whose prompt doesn't have the requirement for linguistic confidence. For example:\n",
    "```bash\n",
    "python instruct_without_conf.py \\\n",
    "  --model_id Qwen/Qwen2.5-14B-Instruct \\   \n",
    "  --prompt_file prompts_instruct_withoutConfidence.json \\ \n",
    "  --task CoLA \\                          \n",
    "  --token hf_xxx_your_token                  \n",
    "```\n",
    "Run ```results_analysis.py``` to get the results.\n",
    "\n",
    "## Generation tasks\n",
    "Codes for generation tasks can be found in ```/generation_tasks```.\n",
    "\n",
    "Use ```parse_coqa.py``` and ```parse_triviaqa.py``` to preprocess the datasets.\n",
    "\n",
    "Use ```model_pipeline``` to get all results.\n",
    "\n",
    "After that, use ```result_analysis.ipynb``` to analyze the correlation of semantic uncertainty and linguistic confidence."
   ]
  },
  {
   "cell_type": "code",
   "execution_count": null,
   "id": "d3ef65ab",
   "metadata": {},
   "outputs": [],
   "source": []
  }
 ],
 "metadata": {
  "kernelspec": {
   "display_name": "Python 3 (ipykernel)",
   "language": "python",
   "name": "python3"
  },
  "language_info": {
   "codemirror_mode": {
    "name": "ipython",
    "version": 3
   },
   "file_extension": ".py",
   "mimetype": "text/x-python",
   "name": "python",
   "nbconvert_exporter": "python",
   "pygments_lexer": "ipython3",
   "version": "3.11.5"
  }
 },
 "nbformat": 4,
 "nbformat_minor": 5
}
